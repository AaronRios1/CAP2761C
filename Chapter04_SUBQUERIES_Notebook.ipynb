{
    "metadata": {
        "kernelspec": {
            "name": "SQL",
            "display_name": "SQL",
            "language": "sql"
        },
        "language_info": {
            "name": "sql",
            "version": ""
        }
    },
    "nbformat_minor": 2,
    "nbformat": 4,
    "cells": [
        {
            "cell_type": "markdown",
            "source": [
                "# T-SQL Fundamentals - Chapter 4: Subqueries"
            ],
            "metadata": {
                "azdata_cell_guid": "d8f00ab0-a539-446e-b8dc-b935022fc6d8"
            },
            "attachments": {}
        },
        {
            "cell_type": "markdown",
            "source": [
                "## Introduction\n",
                "\n",
                "Subqueries are an essential tool in SQL that allow you to execute a query within another query. This chapter explores the different types of subqueries, including self-contained subqueries, correlated subqueries, and using subqueries with predicates like `EXISTS`. It also provides solutions for handling issues that might arise when working with subqueries."
            ],
            "metadata": {
                "azdata_cell_guid": "3d45c103-fb3a-45c4-8efc-2fc1cb8b1d56"
            },
            "attachments": {}
        },
        {
            "cell_type": "markdown",
            "source": [
                "### **Self-Contained Subqueries**\n",
                "\n",
                "Self-contained subqueries are independent of the outer query and can be executed on their own."
            ],
            "metadata": {
                "azdata_cell_guid": "ee514d08-a30c-4ec1-9d48-abe27cba5155"
            },
            "attachments": {}
        },
        {
            "cell_type": "markdown",
            "source": [
                "#### Scalar Subqueries:\r\n",
                "A scalar subquery returns a single value (one row and one column). Such a subquery can appear anywhere in \r\n",
                "the outer query where a single-valued expression can appear (such as WHERE or SELECT).\r\n",
                "\r\n",
                "<u>IMPORTANT</u>: For a scalar subquery to be valid, it must return **no more than one** value.\r\n",
                "\r\n",
                "**Examples:**"
            ],
            "metadata": {
                "azdata_cell_guid": "0d634d93-aa40-47d0-9a7a-ed6b0a19d082"
            },
            "attachments": {}
        },
        {
            "cell_type": "code",
            "source": [
                "SELECT orderid, orderdate, custid, empid\r\n",
                "FROM Sales.Orders\r\n",
                "WHERE orderid = (\r\n",
                "                    SELECT MAX(O.orderid)\r\n",
                "                    FROM Sales.Orders AS O\r\n",
                "                );"
            ],
            "metadata": {
                "azdata_cell_guid": "c4fca8e0-3cb9-46b7-8ee6-1e6e122bad98",
                "language": "sql"
            },
            "outputs": [],
            "execution_count": null
        },
        {
            "cell_type": "markdown",
            "source": [
                "In this query, the scalar subquery `(SELECT MAX(o.orderdate) FROM Sales.Orders AS o)` returns the maximum order date from the `Orders` table, and it is used as part of the outer query."
            ],
            "metadata": {
                "language": "sql",
                "azdata_cell_guid": "0455a4fa-437e-4f34-855f-d284701045b6"
            },
            "attachments": {}
        },
        {
            "cell_type": "code",
            "source": [
                "SELECT orderid\r\n",
                "FROM Sales.Orders\r\n",
                "WHERE empid =   (\r\n",
                "                    SELECT E.empid\r\n",
                "                    FROM HR.Employees AS E\r\n",
                "                    WHERE E.lastname LIKE N'C%'\r\n",
                "                );"
            ],
            "metadata": {
                "language": "sql",
                "azdata_cell_guid": "ddabfec4-e24a-48fa-8553-100a01f01123"
            },
            "outputs": [],
            "execution_count": null
        },
        {
            "cell_type": "markdown",
            "source": [
                "The subquery returns employee IDs of all employees whose last names start with the letter **C**. The outer query returns the orders where the employee ID is equal to the result of the subquery.\r\n",
                "\r\n",
                "<u>IMPORTANT</u>: \r\n",
                "- This subquery can potentially return more than one value. But currently the `Employees` table contains only one employee whose last name starts with **C** (Maria Cameron with employee ID 8). \r\n",
                "- If the subquery returns more than one value, *the query fails*. For example, try running the query with \r\n",
                "employees whose last names start with **D**."
            ],
            "metadata": {
                "language": "sql",
                "azdata_cell_guid": "0209ae0f-06d7-4975-8223-207ef159ae9e"
            },
            "attachments": {}
        },
        {
            "cell_type": "markdown",
            "source": [
                "#### Multivalued Subqueries:\r\n",
                "\r\n",
                "Multivalued subqueries return a set of values (*multiple rows but one column*) that can be used in the `IN` clause.\r\n",
                "\r\n",
                "The form of the `IN` predicate is _`<scalar_expression> IN (<multivalued subquery>)`_.\r\n",
                "\r\n",
                "The <u>predicate</u> evaluates to **TRUE** if *scalar_expression* is equal to any of the values returned by the subquery.\r\n",
                "\r\n",
                "**Example:**"
            ],
            "metadata": {
                "language": "sql",
                "azdata_cell_guid": "1bd40025-3067-4b5b-98fb-551094afe530"
            },
            "attachments": {}
        },
        {
            "cell_type": "code",
            "source": [
                "SELECT orderid\r\n",
                "FROM Sales.Orders\r\n",
                "WHERE empid IN  (\r\n",
                "                    SELECT E.empid\r\n",
                "                    FROM HR.Employees AS E\r\n",
                "                    WHERE E.lastname LIKE N'D%'\r\n",
                "                );\r\n",
                "\r\n",
                "-- As with any other predicate, you can negate the IN predicate with the NOT operator: 'NOT IN'"
            ],
            "metadata": {
                "language": "sql",
                "azdata_cell_guid": "b8bc525d-0540-45e5-b082-4f8c8d8fc3a1"
            },
            "outputs": [],
            "execution_count": null
        },
        {
            "cell_type": "markdown",
            "source": [
                "Returning orders that were handled by employees with a last name starting with a certain letter."
            ],
            "metadata": {
                "language": "sql",
                "azdata_cell_guid": "0e723f15-f500-4fd6-88a0-d184ce35808c"
            },
            "attachments": {}
        },
        {
            "cell_type": "code",
            "source": [
                "-- Same result using JOIN\r\n",
                "\r\n",
                "SELECT O.orderid\r\n",
                "FROM HR.Employees AS E\r\n",
                "    INNER JOIN Sales.Orders AS O ON E.empid = O.empid\r\n",
                "WHERE E.lastname LIKE N'D%';"
            ],
            "metadata": {
                "language": "sql",
                "azdata_cell_guid": "5f173f45-6f8c-49b3-987a-272adc67e0a0"
            },
            "outputs": [],
            "execution_count": null
        },
        {
            "cell_type": "markdown",
            "source": [
                "**<u>Note</u>** \r\n",
                "- SQL supports other predicates that operate on a multivalued subquery; those are `SOME`, `ANY`, and `ALL`. They are rarely used and therefore are not covered in this course."
            ],
            "metadata": {
                "language": "sql",
                "azdata_cell_guid": "64cea40d-18ea-4a52-9e4b-5f06d9b95a31"
            },
            "attachments": {}
        },
        {
            "cell_type": "markdown",
            "source": [
                "### **Correlated Subqueries**\r\n",
                "\r\n",
                "Correlated subqueries depend on the outer query. They use columns from the outer query in the inner query.\r\n",
                "\r\n",
                "This means the subquery is dependent on the outer query and cannot be invoked as a standalone query. \r\n",
                "\r\n",
                "**Example:**"
            ],
            "metadata": {
                "language": "sql",
                "azdata_cell_guid": "15d903de-5941-4fbf-8c29-424032037efb"
            },
            "attachments": {}
        },
        {
            "cell_type": "code",
            "source": [
                "SELECT custid, orderid, orderdate, empid\r\n",
                "FROM Sales.Orders AS o1\r\n",
                "WHERE orderid = \r\n",
                "                (\r\n",
                "                    SELECT MAX(o2.orderid) \r\n",
                "                    FROM Sales.Orders AS o2 \r\n",
                "                    WHERE o2.custid = o1.custid\r\n",
                "                );\r\n",
                "\r\n",
                "-- Check with o1.custid = 85 in line 7"
            ],
            "metadata": {
                "language": "sql",
                "azdata_cell_guid": "42f90ca4-3292-45b9-8b7b-4c447cdbe60c"
            },
            "outputs": [],
            "execution_count": null
        },
        {
            "cell_type": "markdown",
            "source": [
                "- For each row in `o1`, the subquery returns the maximum `orderid` for the current customer. \r\n",
                "- If the outer order ID and the `orderid` returned by the subquery match, the query returns the outer row."
            ],
            "metadata": {
                "language": "sql",
                "azdata_cell_guid": "4e7906cf-fef3-47bc-8292-4c60b6a2ddb1"
            },
            "attachments": {}
        },
        {
            "cell_type": "markdown",
            "source": [
                "### **Using the EXISTS Predicate**\r\n",
                "\r\n",
                "The `EXISTS` predicate is used to check if a subquery returns any rows. It is commonly used with correlated subqueries.\r\n",
                "\r\n",
                "It returns **TRUE** if the subquery returns any rows and **FALSE** otherwise.\r\n",
                "\r\n",
                "**Example:**"
            ],
            "metadata": {
                "language": "sql",
                "azdata_cell_guid": "6a159d4f-98d7-4e8f-b0d5-bd44e15052e6"
            },
            "attachments": {}
        },
        {
            "cell_type": "code",
            "source": [
                "SELECT custid, companyname\r\n",
                "FROM Sales.Customers AS C\r\n",
                "WHERE country = N'Spain'\r\n",
                " AND EXISTS (\r\n",
                "                SELECT * FROM Sales.Orders AS O\r\n",
                "                WHERE O.custid = C.custid\r\n",
                "            );\r\n",
                "\r\n",
                "-- You can negate the EXISTS predicate with the NOT operator: 'NOT EXISTS'"
            ],
            "metadata": {
                "language": "sql",
                "azdata_cell_guid": "185c1b64-e079-4591-8899-090b63d895b8"
            },
            "outputs": [],
            "execution_count": null
        },
        {
            "cell_type": "markdown",
            "source": [
                "Return customers from Spain if they have any orders where the order’s customer ID is the same as the customer’s customer ID."
            ],
            "metadata": {
                "language": "sql",
                "azdata_cell_guid": "e964438b-cf3d-4406-9c92-d66d4d75f17b"
            },
            "attachments": {}
        },
        {
            "cell_type": "markdown",
            "source": [
                "### **Returning Previous or Next Values**\r\n",
                "\r\n",
                "Returning **previous** or **next** values in a dataset: T-SQL expression that means “the maximum value that is smaller than the current value”.\r\n",
                "\r\n",
                "The tricky part is that the concept of “previous” implies order, and rows in a table have no order.\r\n",
                "\r\n",
                "**Example:**"
            ],
            "metadata": {
                "language": "sql",
                "azdata_cell_guid": "8d8f76d5-3391-41d9-b51a-a8449bbc9a58"
            },
            "attachments": {}
        },
        {
            "cell_type": "code",
            "source": [
                "-- \"previous\"\r\n",
                "\r\n",
                "SELECT orderid, orderdate, empid, custid,\r\n",
                "       (\r\n",
                "            SELECT MAX(O2.orderid) \r\n",
                "            FROM Sales.Orders AS O2 \r\n",
                "            WHERE O2.orderid < O1.orderid\r\n",
                "        ) AS prevorderid\r\n",
                "FROM Sales.Orders AS O1;"
            ],
            "metadata": {
                "language": "sql",
                "azdata_cell_guid": "a1c12ee6-80e7-49ce-be3c-6d6883b94b1d"
            },
            "outputs": [],
            "execution_count": null
        },
        {
            "cell_type": "markdown",
            "source": [
                "Notice that because there's no order **before** the first order, the subquery returned a NULL for the <u>first</u> order."
            ],
            "metadata": {
                "language": "sql",
                "azdata_cell_guid": "f1a3d5b0-1cff-40bb-99be-e2a254e3413b"
            },
            "attachments": {}
        },
        {
            "cell_type": "code",
            "source": [
                "-- \"next\"\r\n",
                "\r\n",
                "SELECT orderid, orderdate, empid, custid,\r\n",
                "       (\r\n",
                "            SELECT MIN(O2.orderid)\r\n",
                "            FROM Sales.Orders AS O2\r\n",
                "            WHERE O2.orderid > O1.orderid\r\n",
                "        ) AS nextorderid\r\n",
                "FROM Sales.Orders AS O1;"
            ],
            "metadata": {
                "language": "sql",
                "azdata_cell_guid": "4ac788d4-f87d-432e-9ca7-dae665095651"
            },
            "outputs": [],
            "execution_count": null
        },
        {
            "cell_type": "markdown",
            "source": [
                "Notice that because there's no order **after** the last order, the subquery returned a NULL for the <u>last</u> order."
            ],
            "metadata": {
                "language": "sql",
                "azdata_cell_guid": "98eb8cf9-8265-4615-8dc5-86ece9e51dc6"
            },
            "attachments": {}
        },
        {
            "cell_type": "markdown",
            "source": [
                "### **Using Running Aggregates**\r\n",
                "\r\n",
                "Running aggregates allow you to calculate cumulative values based on some order, such as a running **total**, **average**, or **sum**.\r\n",
                "\r\n",
                "**Example:**"
            ],
            "metadata": {
                "language": "sql",
                "azdata_cell_guid": "2844e783-97ea-47df-b2d2-15f1a8a997d1"
            },
            "attachments": {}
        },
        {
            "cell_type": "code",
            "source": [
                "-- View\r\n",
                "\r\n",
                "SELECT orderyear, qty\r\n",
                "FROM Sales.OrderTotalsByYear;"
            ],
            "metadata": {
                "language": "sql",
                "azdata_cell_guid": "60d3a203-8935-40a9-8dd1-62325e674fee"
            },
            "outputs": [],
            "execution_count": null
        },
        {
            "cell_type": "code",
            "source": [
                "-- Aggregates that accumulate values based on some order.\r\n",
                "-- Computes for each year the running total quantity up to and including that year’s.\r\n",
                "\r\n",
                "SELECT orderyear, qty,\r\n",
                "        (\r\n",
                "            SELECT SUM(O2.qty)\r\n",
                "            FROM Sales.OrderTotalsByYear AS O2\r\n",
                "            WHERE O2.orderyear <= O1.orderyear\r\n",
                "        ) AS runqty\r\n",
                "FROM Sales.OrderTotalsByYear AS O1\r\n",
                "ORDER BY orderyear;"
            ],
            "metadata": {
                "language": "sql",
                "azdata_cell_guid": "288975c7-7a61-4539-950e-49feeadf8749"
            },
            "outputs": [],
            "execution_count": null
        },
        {
            "cell_type": "markdown",
            "source": [
                "- For the earliest year recorded in the view (2020), the running total is equal to that year’s quantity. \r\n",
                "- For the second year (2021), the running total is the sum of the first year plus the second year, and so on."
            ],
            "metadata": {
                "language": "sql",
                "azdata_cell_guid": "3bb6ac09-d1e7-4e84-a9a0-578332d177c4"
            },
            "attachments": {}
        },
        {
            "cell_type": "markdown",
            "source": [
                "### **Dealing with Misbehaving Subqueries**\r\n",
                "\r\n",
                "When working with subqueries, certain issues can arise, such as handling `NULL` values and dealing with substitution errors."
            ],
            "metadata": {
                "language": "sql",
                "azdata_cell_guid": "147d770e-0b60-44af-8d06-1c944c740f88"
            },
            "attachments": {}
        },
        {
            "cell_type": "markdown",
            "source": [
                "#### **NULL Trouble:**\r\n",
                "\r\n",
                "Subqueries that return `NULL` values can cause unexpected results, especially when using comparison operators.\r\n",
                "\r\n",
                "**Example:**"
            ],
            "metadata": {
                "language": "sql",
                "azdata_cell_guid": "b462ec6c-bb96-4ab4-97d1-215e37a6115c"
            },
            "attachments": {}
        },
        {
            "cell_type": "code",
            "source": [
                "--  Return customers who did not place orders.\r\n",
                "\r\n",
                "SELECT custid, companyname\r\n",
                "FROM Sales.Customers\r\n",
                "WHERE custid NOT IN (\r\n",
                "                        SELECT O.custid\r\n",
                "                        FROM Sales.Orders AS O\r\n",
                "                    );"
            ],
            "metadata": {
                "language": "sql",
                "azdata_cell_guid": "4b499944-8497-4475-8f75-56306b356699"
            },
            "outputs": [],
            "execution_count": null
        },
        {
            "cell_type": "markdown",
            "source": [
                "INSERT INTO Sales.Orders\n",
                "    (custid, empid, orderdate, requireddate, shippeddate, shipperid,\n",
                "    freight, shipname, shipaddress, shipcity, shipregion,\n",
                "    shippostalcode, shipcountry)\n",
                " VALUES\n",
                "    (NULL, 1, '20220212', '20220212',\n",
                "    '20220212', 1, 123.00, N'abc', N'abc', N'abc',\n",
                "    N'abc', N'abc', N'abc');\n",
                "\n",
                "- Run the previous query again and this time the query returns an **empty set**.\n",
                "- The culprit here is the NULL customer ID you added to the Orders table. The NULL is one of the elements returned by the subquery."
            ],
            "metadata": {
                "language": "sql",
                "azdata_cell_guid": "102056c6-1f2e-4b13-9887-4bbfcdb6823c"
            },
            "attachments": {}
        },
        {
            "cell_type": "markdown",
            "source": [
                "#### **Substitution Errors:**\r\n",
                "\r\n",
                "Substitution errors occur when a subquery is used incorrectly in a context where it doesn’t fit, such as returning multiple values where a single value is expected.\r\n",
                "\r\n",
                "Logical bugs in your code can sometimes be elusive.\r\n",
                "\r\n",
                "**Example:**"
            ],
            "metadata": {
                "language": "sql",
                "azdata_cell_guid": "f15d4639-22cb-473f-a0c6-7ff2dd7e7c33"
            },
            "attachments": {}
        },
        {
            "cell_type": "code",
            "source": [
                "DROP TABLE IF EXISTS Sales.MyShippers;\r\n",
                "\r\n",
                "CREATE TABLE Sales.MyShippers\r\n",
                "(\r\n",
                "    shipper_id INT NOT NULL,\r\n",
                "    companyname NVARCHAR(40) NOT NULL,\r\n",
                "    phone NVARCHAR(24) NOT NULL,\r\n",
                "    CONSTRAINT PK_MyShippers PRIMARY KEY(shipper_id)\r\n",
                ");\r\n",
                "\r\n",
                "INSERT INTO Sales.MyShippers (shipper_id, companyname, phone) VALUES\r\n",
                " (1, N'Shipper GVSUA', N'(503) 555-0137'),\r\n",
                " (2, N'Shipper ETYNR', N'(425) 555-0136'),\r\n",
                " (3, N'Shipper ZHISN', N'(415) 555-0138')"
            ],
            "metadata": {
                "language": "sql",
                "azdata_cell_guid": "5d4e5757-e78d-4010-b275-c2cbe6dbca0e"
            },
            "outputs": [],
            "execution_count": null
        },
        {
            "cell_type": "code",
            "source": [
                "SELECT shipper_id, companyname\r\n",
                "FROM Sales.MyShippers\r\n",
                "WHERE shipper_id IN (\r\n",
                "                        SELECT shipper_id\r\n",
                "                        FROM Sales.Orders\r\n",
                "                        WHERE custid = 43\r\n",
                "                    );"
            ],
            "metadata": {
                "language": "sql",
                "azdata_cell_guid": "b7ffe46d-82c5-48f0-8149-87a75a3a1dbc"
            },
            "outputs": [],
            "execution_count": null
        },
        {
            "cell_type": "markdown",
            "source": [
                "Only shippers 2 and 3 shipped orders to customer 43, but for some reason this query returned all shippers from the MyShippers table.\r\n",
                "\r\n",
                "it turns out that the column name in the Orders table holding the shipper ID is called not `shipper_id`, but rather `shipperid` (no underscore). The column in the MyShippers table is called `shipper_id`, with an underscore.\r\n",
                "\r\n",
                "SQL Server first looks for the column `shipper_id` in the table in the inner query, Orders. Such a column is not found there, so SQL Server looks for it in the table in the outer query, MyShippers. Such a column is found in MyShippers, so that is the one used.\r\n",
                "\r\n",
                "You can follow a couple of best practices to avoid such problems:\r\n",
                "- Use **consistent attribute** names across tables.\r\n",
                "- Prefix column names in subqueries with the source **table name or alias** (if you assigned one)."
            ],
            "metadata": {
                "language": "sql",
                "azdata_cell_guid": "76326eec-6d26-4e98-802e-97e07af0cd57"
            },
            "attachments": {}
        },
        {
            "cell_type": "code",
            "source": [
                "-- ERROR:\r\n",
                "\r\n",
                "SELECT shipper_id, companyname\r\n",
                "FROM Sales.MyShippers\r\n",
                "WHERE shipper_id IN (\r\n",
                "                        SELECT O.shipper_id\r\n",
                "                        FROM Sales.Orders AS O\r\n",
                "                        WHERE O.custid = 43\r\n",
                "                    );"
            ],
            "metadata": {
                "language": "sql",
                "azdata_cell_guid": "1c486b46-3cc2-4991-8ac3-5b20bfde0bc1"
            },
            "outputs": [],
            "execution_count": null
        },
        {
            "cell_type": "code",
            "source": [
                "-- CORRECT:\r\n",
                "\r\n",
                "SELECT shipper_id, companyname\r\n",
                "FROM Sales.MyShippers\r\n",
                "WHERE shipper_id IN (\r\n",
                "                        SELECT O.shipperid\r\n",
                "                        FROM Sales.Orders AS O\r\n",
                "                        WHERE O.custid = 43\r\n",
                "                    );"
            ],
            "metadata": {
                "language": "sql",
                "azdata_cell_guid": "7f064502-3f0b-473c-b002-595f31d5246f"
            },
            "outputs": [],
            "execution_count": null
        },
        {
            "cell_type": "code",
            "source": [
                "-- At the end:\r\n",
                "\r\n",
                "DROP TABLE IF EXISTS Sales.MyShippers;"
            ],
            "metadata": {
                "language": "sql",
                "azdata_cell_guid": "d001ebd6-b650-4a4a-bd57-989e298242b0"
            },
            "outputs": [],
            "execution_count": null
        },
        {
            "cell_type": "markdown",
            "source": [
                "_Regarding DEPENDENCY_\r\n",
                "\r\n",
                "- **_Self-contained_** subqueries, which are <u>independent</u> of their outer queries; \r\n",
                "\r\n",
                "- **_Correlated_** subqueries, which are <u>dependent</u> on their outer queries. \r\n",
                "\r\n",
                "_Regarding RESULT_\r\n",
                "\r\n",
                "- scalar;\r\n",
                "- multivalued subqueries. \r\n",
                "\r\n",
                "Also:\r\n",
                "\r\n",
                "- returning previous and next values;\r\n",
                "- using running aggregates;\r\n",
                "- and dealing with misbehaving subqueries. \r\n",
                "- remember the **importance of prefixing column** names <u>in subqueries</u> with the _source table alias_."
            ],
            "metadata": {
                "language": "sql",
                "azdata_cell_guid": "f02a71ab-a33a-4b88-a8c1-ba80266b4532"
            },
            "attachments": {}
        },
        {
            "cell_type": "markdown",
            "source": [
                "### **Conclusion**\r\n",
                "\r\n",
                "Subqueries are a powerful tool in SQL that allow for more complex queries and greater flexibility. Understanding the different types of subqueries, as well as how to handle common issues, is **key to mastering T-SQL**."
            ],
            "metadata": {
                "language": "sql",
                "azdata_cell_guid": "2a31b54e-ec4b-4f4c-a46f-d718b28db5fe"
            },
            "attachments": {}
        }
    ]
}