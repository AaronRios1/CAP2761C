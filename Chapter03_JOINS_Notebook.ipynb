{
    "metadata": {
        "kernelspec": {
            "name": "SQL",
            "display_name": "SQL",
            "language": "sql"
        },
        "language_info": {
            "name": "sql",
            "version": ""
        }
    },
    "nbformat_minor": 2,
    "nbformat": 4,
    "cells": [
        {
            "cell_type": "markdown",
            "source": [
                "# Introduction to Joins\n",
                "\n",
                "- **Definition**: A join is a T-SQL operation that combines rows from two or more tables based on a related column.\n",
                "- **Purpose**: Joins are used to retrieve data from multiple tables in a single query."
            ],
            "metadata": {
                "azdata_cell_guid": "ef26b12c-bf51-4288-b5bc-e8720de9dca2"
            },
            "attachments": {}
        },
        {
            "cell_type": "markdown",
            "source": [
                "## Inner Join\r\n",
                "\r\n",
                "Combines rows from two tables where there is a match in the columns specified in the join condition.\r\n",
                "\r\n",
                "- The most commonly used join.\r\n",
                "- Retrieves rows from both tables where the join condition is met (i.e., where there is a match between the tables).\r\n",
                "- If no match is found, the row is excluded from the result set.\r\n",
                ""
            ],
            "metadata": {
                "language": "sql",
                "azdata_cell_guid": "0d0fabce-234c-4b2d-80ba-52d7eabf673b"
            },
            "attachments": {}
        },
        {
            "cell_type": "code",
            "source": [
                "-- SQL-92 Syntax\r\n",
                "\r\n",
                "SELECT E.empid, E.firstname, E.lastname, O.orderid\r\n",
                "FROM HR. Employees AS ELSE\r\n",
                "INNER JOIN Sales.Orders AS O\r\n",
                "ON E.empid = O.empid\r\n",
                "WHERE E.empid = 1 and YEAR(0.orderdate) = 2020 and O.custid = 71;\r\n",
                ""
            ],
            "metadata": {
                "language": "sql",
                "azdata_cell_guid": "1e683805-4703-46f2-be36-8532d21ee527"
            },
            "outputs": [],
            "execution_count": null
        },
        {
            "cell_type": "code",
            "source": [
                "-- SQL-92 Syntax\r\n",
                "\r\n",
                "SELECT E.empid, E.firstname, E.lastname, O.orderid\r\n",
                "FROM HR.Employees AS E\r\n",
                "    INNER JOIN Sales.Orders AS O\r\n",
                "    ON E.empid = O.empid;\r\n",
                ""
            ],
            "metadata": {
                "azdata_cell_guid": "381ca075-0d86-4a94-a663-35ed4c4d9fd6",
                "language": "sql",
                "tags": []
            },
            "outputs": [],
            "execution_count": null
        },
        {
            "cell_type": "code",
            "source": [
                "-- SQL-89 Syntax\r\n",
                "\r\n",
                "SELECT E.empid, E.firstname, E.lastname, O.orderid\r\n",
                "FROM HR.Employees AS E, Sales.Orders AS O\r\n",
                "WHERE E.empid = O.empid;"
            ],
            "metadata": {
                "azdata_cell_guid": "372494e8-0eae-4c01-87b8-4a561217e44d",
                "language": "sql"
            },
            "outputs": [],
            "execution_count": null
        },
        {
            "cell_type": "markdown",
            "source": [
                "## Composite Join\n",
                "\n",
                "A _composite join_ is simply a join for which you need to match multiple attributes from each side.\n",
                "\n",
                "Syntax:\n",
                "\n",
                "            SELECT *\n",
                "            FROM dbo.Table1 AS T1\n",
                "            INNER JOIN dbo.Table2 AS T2\n",
                "                ON T1.col1 = T2.col1\n",
                "                AND T1.col2 = T2.col2"
            ],
            "metadata": {
                "azdata_cell_guid": "66370852-8dd8-47cb-b89d-605a674d8a3b"
            },
            "attachments": {}
        },
        {
            "cell_type": "code",
            "source": [
                "SELECT E.empid, E.firstname, E.lastname, O.orderid\r\n",
                "FROM HR.Employees AS E\r\n",
                "    INNER JOIN Sales.Orders AS O\r\n",
                "    ON E.empid = O.empid\r\n",
                "    AND E.country = O.shipcountry;"
            ],
            "metadata": {
                "azdata_cell_guid": "0916553b-56d4-439b-8f2e-000099c8decc",
                "language": "sql"
            },
            "outputs": [],
            "execution_count": null
        },
        {
            "cell_type": "markdown",
            "source": [
                "## Self Cross Join\r\n",
                "\r\n",
                "- You can join multiple instances of the same table. \r\n",
                "\r\n",
                "- This capability is known as a _Self Join_ and is supported with all fundamental join types (cross joins, inner joins, and outer joins)."
            ],
            "metadata": {
                "azdata_cell_guid": "248b8c9e-801c-4bb2-8ce2-24f359155919"
            },
            "attachments": {}
        },
        {
            "cell_type": "code",
            "source": [
                "-- SQL-92 Syntax : Croos Join does not require a condition.\r\n",
                "\r\n",
                "SELECT\r\n",
                " E1.empid, E1.firstname, E1.lastname,\r\n",
                " E2.empid, E2.firstname, E2.lastname\r\n",
                "FROM HR.Employees AS E1\r\n",
                "    CROSS JOIN HR.Employees AS E2;"
            ],
            "metadata": {
                "azdata_cell_guid": "c0d9b748-0424-480d-bf3e-39e7279408fa",
                "language": "sql"
            },
            "outputs": [],
            "execution_count": null
        },
        {
            "cell_type": "code",
            "source": [
                "-- SQL-92 Syntax : Croos Join does not require a condition.\r\n",
                "\r\n",
                "SELECT C.custid, E.empid\r\n",
                "FROM Sales.Customers AS C\r\n",
                "  CROSS JOIN HR.Employees AS E;"
            ],
            "metadata": {
                "azdata_cell_guid": "6525ee03-fb71-44fb-82ed-d490a1fcf90d",
                "language": "sql"
            },
            "outputs": [],
            "execution_count": null
        },
        {
            "cell_type": "code",
            "source": [
                "-- SQL-89 Syntax\r\n",
                "\r\n",
                "SELECT C.custid, E.empid\r\n",
                "FROM Sales.Customers AS C, HR.Employees AS E;"
            ],
            "metadata": {
                "language": "sql",
                "azdata_cell_guid": "4feef17d-1878-442b-9177-a744038ee56c"
            },
            "outputs": [],
            "execution_count": null
        },
        {
            "cell_type": "markdown",
            "source": [
                "## How to use the Auxiliary Table  \n",
                "\n",
                "- Table: **dbo.Nums**  \n",
                "\n",
                "- Example: Generate 5 copies out of each employee row."
            ],
            "metadata": {
                "language": "sql",
                "azdata_cell_guid": "1e7ffc9f-4a8d-4b43-a2fe-ee125a7d805f"
            },
            "attachments": {}
        },
        {
            "cell_type": "code",
            "source": [
                "-- Using Auxiliary table:  TSQLV6.dbo.Nums\r\n",
                "\r\n",
                "USE TSQLV6;\r\n",
                "\r\n",
                "SELECT E.empid, E.firstname, E.lastname, N.n\r\n",
                "FROM HR.Employees AS E\r\n",
                "    CROSS JOIN dbo.Nums AS N \r\n",
                "WHERE N.n <= 5\r\n",
                "ORDER BY empid, n;"
            ],
            "metadata": {
                "azdata_cell_guid": "6820b577-0447-4814-b4ce-dd9dbe1178c3",
                "language": "sql"
            },
            "outputs": [],
            "execution_count": null
        },
        {
            "cell_type": "markdown",
            "source": [
                "## Non-equi Join\n",
                "\n",
                "- When a **Join condition** involves <u>only an equality operator</u>, the Join is said to be an _equi join_. \n",
                "\n",
                "- When a **Join condition** involves any <u>operator besides equality</u>, the Join is said to be a _non-equi join_."
            ],
            "metadata": {
                "azdata_cell_guid": "536bd92b-2703-48a4-8b51-e734aa7d41a2"
            },
            "attachments": {}
        },
        {
            "cell_type": "code",
            "source": [
                "SELECT\r\n",
                " E1.empid, E1.firstname, E1.lastname,\r\n",
                " E2.empid, E2.firstname, E2.lastname\r\n",
                "FROM HR.Employees AS E1\r\n",
                "    INNER JOIN HR.Employees AS E2\r\n",
                "    ON E1.empid < E2.empid;"
            ],
            "metadata": {
                "azdata_cell_guid": "3866c051-755b-41fe-b41f-1b09fe948bbc",
                "language": "sql"
            },
            "outputs": [],
            "execution_count": null
        },
        {
            "cell_type": "markdown",
            "source": [
                "## Multi-join\n",
                "\n",
                "A join table operator operates only on two tables, but a single query can have multiple joins. \n",
                "\n",
                "In general, when more than one table operator appears in the FROM clause, the table operators are logically processed in written order. \n",
                "\n",
                "That is, the result table of the first table operator is treated as the left input to the second table operator; the result of the second table operator is treated as the left input to the third table operator; and so on."
            ],
            "metadata": {
                "azdata_cell_guid": "5a8a4294-33eb-41bf-b75b-406e7df51849"
            },
            "attachments": {}
        },
        {
            "cell_type": "code",
            "source": [
                "SELECT\r\n",
                " C.custid, C.companyname, O.orderid, OD.productid, OD.qty\r\n",
                "FROM Sales.Customers AS C\r\n",
                "    INNER JOIN Sales.Orders AS O\r\n",
                "        ON C.custid = O.custid\r\n",
                "    INNER JOIN Sales.OrderDetails AS OD\r\n",
                "        ON O.orderid = OD.orderid;"
            ],
            "metadata": {
                "azdata_cell_guid": "49f6dfab-d47e-4d8f-91b3-ff126f53dc5d",
                "language": "sql"
            },
            "outputs": [],
            "execution_count": null
        },
        {
            "cell_type": "markdown",
            "source": [
                "## Left (Outer) Join\n",
                "\n",
                "- Retrieves **all rows from the left table**, and matching rows from the right table. \n",
                "\n",
                "- If no match is found, **NULL** values are returned for columns <u>from the right table</u>."
            ],
            "metadata": {
                "azdata_cell_guid": "ecb0d26e-abb8-4873-b2ed-044040fdedf8"
            },
            "attachments": {}
        },
        {
            "cell_type": "code",
            "source": [
                "-- Not all Customers have an Order\r\n",
                "\r\n",
                "SELECT C.custid, C.companyname, O.orderid\r\n",
                "FROM Sales.Customers AS C\r\n",
                "    LEFT OUTER JOIN Sales.Orders AS O\r\n",
                "    ON C.custid = O.custid;"
            ],
            "metadata": {
                "azdata_cell_guid": "41035009-aff5-47a7-9583-57637eefcafd",
                "language": "sql"
            },
            "outputs": [],
            "execution_count": null
        },
        {
            "cell_type": "code",
            "source": [
                "-- Filter only the rows in which one of the attributes\r\n",
                "-- on the nonpreserved side of the join is NULL\r\n",
                "\r\n",
                "SELECT C.custid, C.companyname\r\n",
                "FROM Sales.Customers AS C\r\n",
                "    LEFT OUTER JOIN Sales.Orders AS O\r\n",
                "    ON C.custid = O.custid\r\n",
                "WHERE O.orderid IS NULL;"
            ],
            "metadata": {
                "azdata_cell_guid": "f097bc2a-caac-4ba3-88d1-651a509f4e88",
                "language": "sql"
            },
            "outputs": [],
            "execution_count": null
        },
        {
            "cell_type": "markdown",
            "source": [
                "## Right (Outer) Join\n",
                "  \n",
                "\n",
                "- Retrieves **all rows from the right table**, and matching rows from the left table.\n",
                "\n",
                "- If no match is found, **NULL** values are returned for columns <u>from the left table</u>."
            ],
            "metadata": {
                "azdata_cell_guid": "dc4a8fd5-494a-48ae-a23c-9a4c16fb5c8b"
            },
            "attachments": {}
        },
        {
            "cell_type": "code",
            "source": [
                "-- All Orders have a Customer\r\n",
                "\r\n",
                "SELECT C.custid, C.companyname, O.orderid\r\n",
                "FROM Sales.Customers AS C\r\n",
                "    RIGHT OUTER JOIN Sales.Orders AS O\r\n",
                "    ON C.custid = O.custid;"
            ],
            "metadata": {
                "azdata_cell_guid": "bd1196ca-add1-491e-9ee5-8c2de893a812",
                "language": "sql"
            },
            "outputs": [],
            "execution_count": null
        },
        {
            "cell_type": "markdown",
            "source": [
                "## Full Outer Join\n",
                "\n",
                "- Retrieves rows **there is a match** in one of the tables.\n",
                "\n",
                "- If there is no match, the result will have **NULL** values in the columns <u>from the table with no match</u>."
            ],
            "metadata": {
                "language": "sql",
                "azdata_cell_guid": "4adf60b1-2747-40bb-8d49-07d62f620bde"
            },
            "attachments": {}
        },
        {
            "cell_type": "code",
            "source": [
                "SELECT C.custid, C.companyname, O.orderid\r\n",
                "FROM Sales.Customers AS C\r\n",
                "    FULL OUTER JOIN Sales.Orders AS O\r\n",
                "    ON C.custid = O.custid;"
            ],
            "metadata": {
                "language": "sql",
                "azdata_cell_guid": "a7ef50ce-5306-48bc-ba25-921de13a7100"
            },
            "outputs": [],
            "execution_count": null
        },
        {
            "cell_type": "markdown",
            "source": [
                "## Outer Joins in Multi-Join Query"
            ],
            "metadata": {
                "azdata_cell_guid": "19928879-d8b8-449b-90e2-af5a08bd2f2a"
            },
            "attachments": {}
        },
        {
            "cell_type": "code",
            "source": [
                "SELECT C.custid, O.orderid, OD.productid, OD.qty\r\n",
                "FROM Sales.Customers AS C\r\n",
                "    LEFT OUTER JOIN Sales.Orders AS O\r\n",
                "        ON C.custid = O.custid\r\n",
                "    INNER JOIN Sales.OrderDetails AS OD\r\n",
                "        ON O.orderid = OD.orderid;"
            ],
            "metadata": {
                "azdata_cell_guid": "933c3ec4-b8fd-4e08-b2c1-9efbdcf63f64",
                "language": "sql"
            },
            "outputs": [],
            "execution_count": null
        },
        {
            "cell_type": "code",
            "source": [
                "SELECT C.custid, O.orderid, OD.productid, OD.qty\r\n",
                "FROM Sales.Customers AS C\r\n",
                "    LEFT OUTER JOIN Sales.Orders AS O\r\n",
                "        ON C.custid = O.custid\r\n",
                "    LEFT OUTER JOIN Sales.OrderDetails AS OD\r\n",
                "        ON O.orderid = OD.orderid;"
            ],
            "metadata": {
                "azdata_cell_guid": "60eff04d-9281-47a0-b455-6ef8f6928f6c",
                "language": "sql"
            },
            "outputs": [],
            "execution_count": null
        },
        {
            "cell_type": "code",
            "source": [
                "SELECT C.custid, O.orderid, OD.productid, OD.qty\r\n",
                "FROM Sales.Orders AS O\r\n",
                "    INNER JOIN Sales.OrderDetails AS OD\r\n",
                "        ON O.orderid = OD.orderid\r\n",
                "    RIGHT OUTER JOIN Sales.Customers AS C\r\n",
                "        ON O.custid = C.custid;"
            ],
            "metadata": {
                "azdata_cell_guid": "71e460a0-4b4c-47ef-b751-3a20c034aa4b",
                "language": "sql"
            },
            "outputs": [],
            "execution_count": null
        },
        {
            "cell_type": "code",
            "source": [
                "SELECT C.custid, O.orderid, OD.productid, OD.qty\r\n",
                "FROM Sales.Customers AS C\r\n",
                "    LEFT OUTER JOIN (Sales.Orders AS O\r\n",
                "    INNER JOIN Sales.OrderDetails AS OD\r\n",
                "        ON O.orderid = OD.orderid)\r\n",
                "ON C.custid = O.custid;"
            ],
            "metadata": {
                "language": "sql",
                "azdata_cell_guid": "0219763e-965e-4f5b-b0cc-fa1d97a48fcd"
            },
            "outputs": [],
            "execution_count": null
        },
        {
            "cell_type": "markdown",
            "source": [
                "## Using the COUNT aggregate with outer joins"
            ],
            "metadata": {
                "azdata_cell_guid": "5f83b0e9-9300-46bb-9d4d-2e0bc3ef3edc"
            },
            "attachments": {}
        },
        {
            "cell_type": "code",
            "source": [
                "-- COUNT(*)\r\n",
                "\r\n",
                "SELECT C.custid, COUNT(*) AS numorders\r\n",
                "FROM Sales.Customers AS C\r\n",
                "    LEFT OUTER JOIN Sales.Orders AS O\r\n",
                "        ON C.custid = O.custid\r\n",
                "GROUP BY C.custid;"
            ],
            "metadata": {
                "azdata_cell_guid": "dd76b8ed-6de4-415b-a99c-0ad3d533e3c7",
                "language": "sql"
            },
            "outputs": [],
            "execution_count": null
        },
        {
            "cell_type": "code",
            "source": [
                "-- COUNT(O.orderid)\r\n",
                "\r\n",
                "SELECT C.custid, COUNT(O.orderid) AS numorders\r\n",
                "FROM Sales.Customers AS C\r\n",
                "    LEFT OUTER JOIN Sales.Orders AS O\r\n",
                "        ON C.custid = O.custid\r\n",
                "GROUP BY C.custid;"
            ],
            "metadata": {
                "language": "sql",
                "azdata_cell_guid": "d29cb57b-480b-43b9-8bd1-860fb4a710ba"
            },
            "outputs": [],
            "execution_count": null
        },
        {
            "cell_type": "markdown",
            "source": [
                "## Filtering attributes from the nonpreserved side of an outer join"
            ],
            "metadata": {
                "language": "sql",
                "azdata_cell_guid": "55c44857-5dc2-44ff-ac43-74191790f132"
            },
            "attachments": {}
        },
        {
            "cell_type": "code",
            "source": [
                "SELECT C.custid, C.companyname, O.orderid, O.orderdate\r\n",
                "FROM Sales.Customers AS C\r\n",
                "    LEFT OUTER JOIN Sales.Orders AS O\r\n",
                "        ON C.custid = O.custid\r\n",
                "WHERE O.orderdate >= '20220101';"
            ],
            "metadata": {
                "language": "sql",
                "azdata_cell_guid": "6d20b6b0-72a7-45f1-a583-c978506f1f32"
            },
            "outputs": [],
            "execution_count": null
        },
        {
            "cell_type": "markdown",
            "source": [
                "## Including missing values\r\n",
                "\r\n",
                "You can use outer joins to identify and include missing values when querying data. \r\n",
                "\r\n",
                "- For example, suppose you need to query all orders from the Orders table in the TSQLV6 database. You need to ensure that you get at least one row in the output for each date in the range January 1, 2020 through December 31, 2022."
            ],
            "metadata": {
                "language": "sql",
                "azdata_cell_guid": "d656fecf-4ec0-4a69-bb24-feea53c21081"
            },
            "attachments": {}
        },
        {
            "cell_type": "code",
            "source": [
                "SELECT \r\n",
                "    DATEADD(day, Nums.n - 1, \r\n",
                "    CAST('20200101' AS DATE)) AS orderdate,\r\n",
                "    O.orderid, \r\n",
                "    O.custid, \r\n",
                "    O.empid\r\n",
                "FROM dbo.Nums\r\n",
                "    LEFT OUTER JOIN Sales.Orders AS O\r\n",
                "        ON DATEADD(day, Nums.n - 1, CAST('20200101' AS DATE)) = O.orderdate\r\n",
                "WHERE Nums.n <= DATEDIFF(day, '20200101', '20221231') + 1\r\n",
                "ORDER BY orderdate;"
            ],
            "metadata": {
                "azdata_cell_guid": "727b142a-8aee-4581-845c-60fcc244562a",
                "language": "sql"
            },
            "outputs": [],
            "execution_count": null
        }
    ]
}